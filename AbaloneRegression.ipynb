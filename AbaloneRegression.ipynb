{
  "nbformat": 4,
  "nbformat_minor": 0,
  "metadata": {
    "colab": {
      "name": "AbaloneRegression.ipynb",
      "provenance": [],
      "collapsed_sections": [],
      "include_colab_link": true
    },
    "kernelspec": {
      "name": "python3",
      "display_name": "Python 3"
    },
    "accelerator": "GPU"
  },
  "cells": [
    {
      "cell_type": "markdown",
      "metadata": {
        "id": "view-in-github",
        "colab_type": "text"
      },
      "source": [
        "<a href=\"https://colab.research.google.com/github/nadyadtm/Abalone-Repository/blob/master/AbaloneRegression.ipynb\" target=\"_parent\"><img src=\"https://colab.research.google.com/assets/colab-badge.svg\" alt=\"Open In Colab\"/></a>"
      ]
    },
    {
      "cell_type": "markdown",
      "metadata": {
        "id": "A1OHCwaMfK2A",
        "colab_type": "text"
      },
      "source": [
        "# Regression (Abalone Dataset)"
      ]
    },
    {
      "cell_type": "markdown",
      "metadata": {
        "id": "cFXWlO-HfPKt",
        "colab_type": "text"
      },
      "source": [
        "Dataset Abalone merupakan dataset yang bersumber dari MLData. Dalam dataset ini, kita harus memprediksi umur dari abalone dari fisik si abalonenya itu sendiri. Abalone merupakan semacam kerang. Pada notebook ini akan melakukan regresi sederhana"
      ]
    },
    {
      "cell_type": "markdown",
      "metadata": {
        "id": "BMH0QpwOfqDs",
        "colab_type": "text"
      },
      "source": [
        "## Step-step Regresi"
      ]
    },
    {
      "cell_type": "code",
      "metadata": {
        "id": "vpURmFq1eqv1",
        "colab_type": "code",
        "colab": {}
      },
      "source": [
        "import numpy as np\n",
        "import pandas as pd\n",
        "import matplotlib.pyplot as plt"
      ],
      "execution_count": 0,
      "outputs": []
    },
    {
      "cell_type": "markdown",
      "metadata": {
        "id": "R__tKZE2gX-K",
        "colab_type": "text"
      },
      "source": [
        "## Ayo kita upload datasetnya"
      ]
    },
    {
      "cell_type": "code",
      "metadata": {
        "id": "5xhGFZBOgWs2",
        "colab_type": "code",
        "outputId": "90ff23b5-3e81-4e81-eeaa-1ca4073474d2",
        "colab": {
          "base_uri": "https://localhost:8080/",
          "height": 206
        }
      },
      "source": [
        "link = 'https://raw.githubusercontent.com/nadyadtm/Abalone-Repository/master/abalone_dataset.csv'\n",
        "df = pd.read_csv(link)\n",
        "df.head(5)"
      ],
      "execution_count": 27,
      "outputs": [
        {
          "output_type": "execute_result",
          "data": {
            "text/html": [
              "<div>\n",
              "<style scoped>\n",
              "    .dataframe tbody tr th:only-of-type {\n",
              "        vertical-align: middle;\n",
              "    }\n",
              "\n",
              "    .dataframe tbody tr th {\n",
              "        vertical-align: top;\n",
              "    }\n",
              "\n",
              "    .dataframe thead th {\n",
              "        text-align: right;\n",
              "    }\n",
              "</style>\n",
              "<table border=\"1\" class=\"dataframe\">\n",
              "  <thead>\n",
              "    <tr style=\"text-align: right;\">\n",
              "      <th></th>\n",
              "      <th>sex</th>\n",
              "      <th>length</th>\n",
              "      <th>diameter</th>\n",
              "      <th>height</th>\n",
              "      <th>whole_weight</th>\n",
              "      <th>shucked_weight</th>\n",
              "      <th>viscera_weight</th>\n",
              "      <th>shell_weight</th>\n",
              "      <th>rings</th>\n",
              "    </tr>\n",
              "  </thead>\n",
              "  <tbody>\n",
              "    <tr>\n",
              "      <th>0</th>\n",
              "      <td>M</td>\n",
              "      <td>0.455</td>\n",
              "      <td>0.365</td>\n",
              "      <td>0.095</td>\n",
              "      <td>0.5140</td>\n",
              "      <td>0.2245</td>\n",
              "      <td>0.1010</td>\n",
              "      <td>0.150</td>\n",
              "      <td>15</td>\n",
              "    </tr>\n",
              "    <tr>\n",
              "      <th>1</th>\n",
              "      <td>M</td>\n",
              "      <td>0.350</td>\n",
              "      <td>0.265</td>\n",
              "      <td>0.090</td>\n",
              "      <td>0.2255</td>\n",
              "      <td>0.0995</td>\n",
              "      <td>0.0485</td>\n",
              "      <td>0.070</td>\n",
              "      <td>7</td>\n",
              "    </tr>\n",
              "    <tr>\n",
              "      <th>2</th>\n",
              "      <td>F</td>\n",
              "      <td>0.530</td>\n",
              "      <td>0.420</td>\n",
              "      <td>0.135</td>\n",
              "      <td>0.6770</td>\n",
              "      <td>0.2565</td>\n",
              "      <td>0.1415</td>\n",
              "      <td>0.210</td>\n",
              "      <td>9</td>\n",
              "    </tr>\n",
              "    <tr>\n",
              "      <th>3</th>\n",
              "      <td>M</td>\n",
              "      <td>0.440</td>\n",
              "      <td>0.365</td>\n",
              "      <td>0.125</td>\n",
              "      <td>0.5160</td>\n",
              "      <td>0.2155</td>\n",
              "      <td>0.1140</td>\n",
              "      <td>0.155</td>\n",
              "      <td>10</td>\n",
              "    </tr>\n",
              "    <tr>\n",
              "      <th>4</th>\n",
              "      <td>I</td>\n",
              "      <td>0.330</td>\n",
              "      <td>0.255</td>\n",
              "      <td>0.080</td>\n",
              "      <td>0.2050</td>\n",
              "      <td>0.0895</td>\n",
              "      <td>0.0395</td>\n",
              "      <td>0.055</td>\n",
              "      <td>7</td>\n",
              "    </tr>\n",
              "  </tbody>\n",
              "</table>\n",
              "</div>"
            ],
            "text/plain": [
              "  sex  length  diameter  ...  viscera_weight  shell_weight  rings\n",
              "0   M   0.455     0.365  ...          0.1010         0.150     15\n",
              "1   M   0.350     0.265  ...          0.0485         0.070      7\n",
              "2   F   0.530     0.420  ...          0.1415         0.210      9\n",
              "3   M   0.440     0.365  ...          0.1140         0.155     10\n",
              "4   I   0.330     0.255  ...          0.0395         0.055      7\n",
              "\n",
              "[5 rows x 9 columns]"
            ]
          },
          "metadata": {
            "tags": []
          },
          "execution_count": 27
        }
      ]
    },
    {
      "cell_type": "markdown",
      "metadata": {
        "id": "Npf4JAWkhD5h",
        "colab_type": "text"
      },
      "source": [
        "## Deskripsi Data"
      ]
    },
    {
      "cell_type": "markdown",
      "metadata": {
        "id": "A2GdqqMhhbWc",
        "colab_type": "text"
      },
      "source": [
        "Melihat tipe data dari atribut"
      ]
    },
    {
      "cell_type": "code",
      "metadata": {
        "id": "JQHtAaq4g9a0",
        "colab_type": "code",
        "outputId": "a7253f34-ad50-4128-e008-85121db5fbaa",
        "colab": {
          "base_uri": "https://localhost:8080/",
          "height": 204
        }
      },
      "source": [
        "df.dtypes"
      ],
      "execution_count": 28,
      "outputs": [
        {
          "output_type": "execute_result",
          "data": {
            "text/plain": [
              "sex                object\n",
              "length            float64\n",
              "diameter          float64\n",
              "height            float64\n",
              "whole_weight      float64\n",
              "shucked_weight    float64\n",
              "viscera_weight    float64\n",
              "shell_weight      float64\n",
              "rings               int64\n",
              "dtype: object"
            ]
          },
          "metadata": {
            "tags": []
          },
          "execution_count": 28
        }
      ]
    },
    {
      "cell_type": "markdown",
      "metadata": {
        "id": "GsuV0SoUhgQ2",
        "colab_type": "text"
      },
      "source": [
        "Melihat apakah ada yang bernilai null (missing values)"
      ]
    },
    {
      "cell_type": "code",
      "metadata": {
        "id": "1dJk8ObXhJmA",
        "colab_type": "code",
        "outputId": "b96792d6-f7c3-47b2-848f-b49639ffc30c",
        "colab": {
          "base_uri": "https://localhost:8080/",
          "height": 279
        }
      },
      "source": [
        "df.info()"
      ],
      "execution_count": 29,
      "outputs": [
        {
          "output_type": "stream",
          "text": [
            "<class 'pandas.core.frame.DataFrame'>\n",
            "RangeIndex: 4177 entries, 0 to 4176\n",
            "Data columns (total 9 columns):\n",
            "sex               4177 non-null object\n",
            "length            4177 non-null float64\n",
            "diameter          4177 non-null float64\n",
            "height            4177 non-null float64\n",
            "whole_weight      4177 non-null float64\n",
            "shucked_weight    4177 non-null float64\n",
            "viscera_weight    4177 non-null float64\n",
            "shell_weight      4177 non-null float64\n",
            "rings             4177 non-null int64\n",
            "dtypes: float64(7), int64(1), object(1)\n",
            "memory usage: 293.8+ KB\n"
          ],
          "name": "stdout"
        }
      ]
    },
    {
      "cell_type": "markdown",
      "metadata": {
        "id": "BUSe3jAdioBa",
        "colab_type": "text"
      },
      "source": [
        "## Visualisasi data\n",
        "\n",
        "\n"
      ]
    },
    {
      "cell_type": "code",
      "metadata": {
        "id": "qDCgXU8ciDJR",
        "colab_type": "code",
        "outputId": "6c57bd65-7682-40e7-ca42-150dd6c93f7c",
        "colab": {
          "base_uri": "https://localhost:8080/",
          "height": 404
        }
      },
      "source": [
        "fig = plt.figure(figsize=(8,6))\n",
        "\n",
        "plt.subplot(2, 2, 1)\n",
        "plt.title(\"Length\")\n",
        "plt.scatter(df['length'],df['rings'],color=\"r\" )\n",
        "plt.xlabel('length')\n",
        "plt.ylabel('rings')\n",
        "\n",
        "plt.subplot(2, 2, 2)\n",
        "plt.title(\"Diameter\")\n",
        "plt.scatter(df['diameter'],df['rings'],color=\"b\")\n",
        "plt.xlabel('diameter')\n",
        "plt.ylabel('rings')\n",
        "\n",
        "plt.subplot(2, 2, 3)\n",
        "plt.title(\"Whole Weight\")\n",
        "plt.scatter(df['whole_weight'],df['rings'],color=\"g\")\n",
        "plt.xlabel('whole weight')\n",
        "plt.ylabel('rings')\n",
        "\n",
        "plt.subplot(2, 2, 4)\n",
        "plt.title(\"Height\")\n",
        "plt.scatter(df['height'],df['rings'],color=\"c\")\n",
        "plt.xlabel('height')\n",
        "plt.ylabel('rings')\n",
        "\n",
        "plt.subplots_adjust(hspace=0.5)\n",
        "plt.show()"
      ],
      "execution_count": 86,
      "outputs": [
        {
          "output_type": "display_data",
          "data": {
            "image/png": "[encoded data removed]",
            "text/plain": [
              "<Figure size 576x432 with 4 Axes>"
            ]
          },
          "metadata": {
            "tags": []
          }
        }
      ]
    },
    {
      "cell_type": "markdown",
      "metadata": {
        "id": "-FiMoBmIX_cm",
        "colab_type": "text"
      },
      "source": [
        "## Train Test Split"
      ]
    },
    {
      "cell_type": "markdown",
      "metadata": {
        "id": "LF_IZ9GMYEQV",
        "colab_type": "text"
      },
      "source": [
        "Kita akan membagi data menjadi dua bagian, yaitu data train dan data test dengan menggunakan code sebagai berikut"
      ]
    },
    {
      "cell_type": "code",
      "metadata": {
        "id": "RAcYToCbYJ53",
        "colab_type": "code",
        "colab": {}
      },
      "source": [
        "# split data into train/test\n",
        "msk = np.random.rand(len(df)) < 0.8\n",
        "train = df[msk]\n",
        "test = df[~msk]"
      ],
      "execution_count": 0,
      "outputs": []
    },
    {
      "cell_type": "markdown",
      "metadata": {
        "id": "clCzdks4XQjf",
        "colab_type": "text"
      },
      "source": [
        "Ambil salah satu atribut yang dicari hubungannya. Disini saya akan memilih atribut Diameter"
      ]
    },
    {
      "cell_type": "code",
      "metadata": {
        "id": "FNT9laAHjbvH",
        "colab_type": "code",
        "colab": {}
      },
      "source": [
        "x_data = train['length']\n",
        "y = train['rings']"
      ],
      "execution_count": 0,
      "outputs": []
    },
    {
      "cell_type": "code",
      "metadata": {
        "id": "CQp7nqvDZZeF",
        "colab_type": "code",
        "outputId": "b2f20ffb-1a47-4c19-e6fb-421c680423bf",
        "colab": {
          "base_uri": "https://localhost:8080/",
          "height": 241
        }
      },
      "source": [
        "x_data"
      ],
      "execution_count": 33,
      "outputs": [
        {
          "output_type": "execute_result",
          "data": {
            "text/plain": [
              "1       0.350\n",
              "2       0.530\n",
              "3       0.440\n",
              "4       0.330\n",
              "5       0.425\n",
              "        ...  \n",
              "4172    0.565\n",
              "4173    0.590\n",
              "4174    0.600\n",
              "4175    0.625\n",
              "4176    0.710\n",
              "Name: length, Length: 3346, dtype: float64"
            ]
          },
          "metadata": {
            "tags": []
          },
          "execution_count": 33
        }
      ]
    },
    {
      "cell_type": "markdown",
      "metadata": {
        "colab_type": "text",
        "id": "vy5tewt0YHkt"
      },
      "source": [
        "## Linear Regression"
      ]
    },
    {
      "cell_type": "markdown",
      "metadata": {
        "id": "SyRzDNThXlv1",
        "colab_type": "text"
      },
      "source": [
        "Setelah itu cari intercept(b) dan coefficient(a)-nya, untuk bentuk matriksnya adalah sebagai berikut"
      ]
    },
    {
      "cell_type": "code",
      "metadata": {
        "id": "QOfTzZuMU1Uw",
        "colab_type": "code",
        "colab": {}
      },
      "source": [
        "m = train.shape[0]\n",
        "sumxi = x_data.sum()\n",
        "sumxi2 = (x_data**2).sum()\n",
        "sumyi = y.sum()\n",
        "sumxiyi = (y*x_data).sum()\n",
        "\n",
        "A = np.array([[m,sumxi],[sumxi,sumxi2]])\n",
        "B = np.array([[sumyi],[sumxiyi]])\n",
        "b,a=np.linalg.inv(A)@B"
      ],
      "execution_count": 0,
      "outputs": []
    },
    {
      "cell_type": "code",
      "metadata": {
        "colab_type": "code",
        "id": "k-ewrGKZW9ud",
        "colab": {}
      },
      "source": [
        "def f(a,b,x):\n",
        "  return a*x+b"
      ],
      "execution_count": 0,
      "outputs": []
    },
    {
      "cell_type": "code",
      "metadata": {
        "colab_type": "code",
        "id": "M_DLt8rdW9t5",
        "outputId": "e79a014f-60f6-4515-f744-36944eafa56c",
        "colab": {
          "base_uri": "https://localhost:8080/",
          "height": 279
        }
      },
      "source": [
        "x = np.linspace(0,1,15)\n",
        "plt.plot(x,f(a,b,x))\n",
        "plt.scatter(x_data,y,color='yellow')\n",
        "plt.xlabel('length')\n",
        "plt.ylabel('rings')\n",
        "plt.show()"
      ],
      "execution_count": 36,
      "outputs": [
        {
          "output_type": "display_data",
          "data": {
            "image/png": "[encoded data removed]",
            "text/plain": [
              "<Figure size 432x288 with 1 Axes>"
            ]
          },
          "metadata": {
            "tags": []
          }
        }
      ]
    },
    {
      "cell_type": "markdown",
      "metadata": {
        "id": "UwnL-A-8VK6v",
        "colab_type": "text"
      },
      "source": [
        "## Non Linear Regression (Exponential)\n",
        "\n"
      ]
    },
    {
      "cell_type": "markdown",
      "metadata": {
        "id": "NSj1Ygk71iS3",
        "colab_type": "text"
      },
      "source": [
        "Selanjutnya kita akan menggunakan fungsi eksponensial. Untuk bentuk matriksnya adalah sebagai berikut"
      ]
    },
    {
      "cell_type": "code",
      "metadata": {
        "id": "KgvnRZOJZVXc",
        "colab_type": "code",
        "colab": {}
      },
      "source": [
        "sumxi = x_data.sum()\n",
        "sumxi2 = (x_data**2).sum()\n",
        "sumyi = np.log(abs(y)).sum()\n",
        "sumxiyi = (np.log(abs(y)) * x_data).sum()\n",
        "m = train.shape[0]\n",
        "\n",
        "A = np.array([[m,sumxi],[sumxi,sumxi2]])\n",
        "B = np.array([[sumyi],[sumxiyi]])\n",
        "\n",
        "lnb,a = np.linalg.inv(A)@B\n",
        "\n",
        "import math\n",
        "b = np.exp(lnb)"
      ],
      "execution_count": 0,
      "outputs": []
    },
    {
      "cell_type": "code",
      "metadata": {
        "id": "QAglaBa7eouv",
        "colab_type": "code",
        "colab": {}
      },
      "source": [
        "def f3(a,b,x):\n",
        "  return b*np.exp(a*x)"
      ],
      "execution_count": 0,
      "outputs": []
    },
    {
      "cell_type": "code",
      "metadata": {
        "id": "jJB5tVnmerrx",
        "colab_type": "code",
        "outputId": "4fd54804-caab-4aa7-d5bb-a2b4ea547ba5",
        "colab": {
          "base_uri": "https://localhost:8080/",
          "height": 279
        }
      },
      "source": [
        "x = np.linspace(0,1,15)\n",
        "plt.plot(x,f3(a,b,x))\n",
        "plt.scatter(x_data,y,color='yellow')\n",
        "plt.xlabel('length')\n",
        "plt.ylabel('rings')\n",
        "plt.show()"
      ],
      "execution_count": 39,
      "outputs": [
        {
          "output_type": "display_data",
          "data": {
            "image/png": "[encoded data removed]",
            "text/plain": [
              "<Figure size 432x288 with 1 Axes>"
            ]
          },
          "metadata": {
            "tags": []
          }
        }
      ]
    },
    {
      "cell_type": "markdown",
      "metadata": {
        "id": "t_33mQ6rfE7N",
        "colab_type": "text"
      },
      "source": [
        "## Menghitung Akurasi"
      ]
    },
    {
      "cell_type": "markdown",
      "metadata": {
        "id": "pc_Hgn1u6vhe",
        "colab_type": "text"
      },
      "source": [
        "Selanjutnya marilah kita hitung akurasi dari kedua model yang sudah dibuat"
      ]
    },
    {
      "cell_type": "code",
      "metadata": {
        "id": "7HrfZqY_fYtf",
        "colab_type": "code",
        "colab": {}
      },
      "source": [
        "#mengambi data test dan labelnya\n",
        "x_test = test['length']\n",
        "y_test = test['rings']"
      ],
      "execution_count": 0,
      "outputs": []
    },
    {
      "cell_type": "code",
      "metadata": {
        "id": "W9qBL6NlfEYB",
        "colab_type": "code",
        "colab": {
          "base_uri": "https://localhost:8080/",
          "height": 54
        },
        "outputId": "add0b3f6-571c-4c5b-b31a-018c9c7def98"
      },
      "source": [
        "import math\n",
        "\n",
        "#prediksi dengan menggunakan regresi linear\n",
        "y_predlinear=f(a,b,x_test)\n",
        "rmse1=((y_predlinear-y_test)**2).sum()/y_test.shape[0]\n",
        "rmse1=math.sqrt(rmse1)\n",
        "\n",
        "#prediksi dengan menggunakan regresi non linear eksponensial\n",
        "y_predexp=f3(a,b,x_test)\n",
        "rmse2=((y_predexp-y_test)**2).sum()/y_test.shape[0]\n",
        "rmse2=math.sqrt(rmse2)\n",
        "\n",
        "#print hasil\n",
        "print('Root Mean Square Error Regresi Linear : ',rmse1)\n",
        "print('Root Mean Square Error Regresi non-linear (exponensial) : ',rmse2)"
      ],
      "execution_count": 61,
      "outputs": [
        {
          "output_type": "stream",
          "text": [
            "Root Mean Square Error Regresi Linear :  5.9653392773810845\n",
            "Root Mean Square Error Regresi non-linear (exponensial) :  2.676188739722262\n"
          ],
          "name": "stdout"
        }
      ]
    },
    {
      "cell_type": "markdown",
      "metadata": {
        "id": "0LeX0aXW6DE4",
        "colab_type": "text"
      },
      "source": [
        "Seperti yang bisa kita lihat, dengan menggunakan atribut length, umur abalone dapat diprediksikan dengan baik dengan menggunakan regresi non-linear exponensial. Silakan coba dengan menggunakan atribut lain dan lihat hasilnya :)"
      ]
    },
    {
      "cell_type": "markdown",
      "metadata": {
        "id": "cE5D4rHnBDKn",
        "colab_type": "text"
      },
      "source": [
        "Copyright Nadya Aditama"
      ]
    },
    {
      "cell_type": "code",
      "metadata": {
        "id": "ja1ANN57y4fR",
        "colab_type": "code",
        "colab": {}
      },
      "source": [
        ""
      ],
      "execution_count": 0,
      "outputs": []
    }
  ]
}