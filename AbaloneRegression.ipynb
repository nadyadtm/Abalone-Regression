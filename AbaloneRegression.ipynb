{
  "nbformat": 4,
  "nbformat_minor": 0,
  "metadata": {
    "colab": {
      "name": "AbaloneRegression.ipynb",
      "provenance": [],
      "collapsed_sections": [],
      "include_colab_link": true
    },
    "kernelspec": {
      "name": "python3",
      "display_name": "Python 3"
    }
  },
  "cells": [
    {
      "cell_type": "markdown",
      "metadata": {
        "id": "view-in-github",
        "colab_type": "text"
      },
      "source": [
        "<a href=\"https://colab.research.google.com/github/nadyadtm/Abalone-Repository/blob/master/AbaloneRegression.ipynb\" target=\"_parent\"><img src=\"https://colab.research.google.com/assets/colab-badge.svg\" alt=\"Open In Colab\"/></a>"
      ]
    },
    {
      "cell_type": "markdown",
      "metadata": {
        "id": "A1OHCwaMfK2A",
        "colab_type": "text"
      },
      "source": [
        "# Regression (Abalone Dataset)"
      ]
    },
    {
      "cell_type": "markdown",
      "metadata": {
        "id": "cFXWlO-HfPKt",
        "colab_type": "text"
      },
      "source": [
        "Dataset Abalone merupakan dataset yang bersumber dari MLData. Dalam dataset ini, kita harus memprediksi umur dari abalone dari fisik si abalonenya itu sendiri. Abalone merupakan semacam kerang. Pada notebook ini akan melakukan regresi sederhana"
      ]
    },
    {
      "cell_type": "markdown",
      "metadata": {
        "id": "BMH0QpwOfqDs",
        "colab_type": "text"
      },
      "source": [
        "## Step-step Regresi"
      ]
    },
    {
      "cell_type": "code",
      "metadata": {
        "id": "vpURmFq1eqv1",
        "colab_type": "code",
        "colab": {}
      },
      "source": [
        "import numpy as np\n",
        "import pandas as pd"
      ],
      "execution_count": 0,
      "outputs": []
    }
  ]
}