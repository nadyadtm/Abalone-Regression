{
  "nbformat": 4,
  "nbformat_minor": 0,
  "metadata": {
    "colab": {
      "name": "AbaloneRegression.ipynb",
      "provenance": [],
      "collapsed_sections": [],
      "include_colab_link": true
    },
    "kernelspec": {
      "name": "python3",
      "display_name": "Python 3"
    },
    "accelerator": "GPU"
  },
  "cells": [
    {
      "cell_type": "markdown",
      "metadata": {
        "id": "view-in-github",
        "colab_type": "text"
      },
      "source": [
        "<a href=\"https://colab.research.google.com/github/nadyadtm/Abalone-Repository/blob/master/AbaloneRegression.ipynb\" target=\"_parent\"><img src=\"https://colab.research.google.com/assets/colab-badge.svg\" alt=\"Open In Colab\"/></a>"
      ]
    },
    {
      "cell_type": "markdown",
      "metadata": {
        "id": "A1OHCwaMfK2A",
        "colab_type": "text"
      },
      "source": [
        "# Regression (Abalone Dataset)"
      ]
    },
    {
      "cell_type": "markdown",
      "metadata": {
        "id": "cFXWlO-HfPKt",
        "colab_type": "text"
      },
      "source": [
        "Dataset Abalone merupakan dataset yang bersumber dari MLData. Dalam dataset ini, kita harus memprediksi umur dari abalone dari fisik si abalonenya itu sendiri. Abalone merupakan semacam kerang. Pada notebook ini akan melakukan regresi sederhana"
      ]
    },
    {
      "cell_type": "markdown",
      "metadata": {
        "id": "BMH0QpwOfqDs",
        "colab_type": "text"
      },
      "source": [
        "## Step-step Regresi"
      ]
    },
    {
      "cell_type": "code",
      "metadata": {
        "id": "vpURmFq1eqv1",
        "colab_type": "code",
        "colab": {}
      },
      "source": [
        "import numpy as np\n",
        "import pandas as pd\n",
        "import matplotlib.pyplot as plt"
      ],
      "execution_count": 0,
      "outputs": []
    },
    {
      "cell_type": "markdown",
      "metadata": {
        "id": "R__tKZE2gX-K",
        "colab_type": "text"
      },
      "source": [
        "## Ayo kita upload datasetnya"
      ]
    },
    {
      "cell_type": "code",
      "metadata": {
        "id": "5xhGFZBOgWs2",
        "colab_type": "code",
        "outputId": "faca98f5-39d2-4f25-c7c0-9f48c15257dc",
        "colab": {
          "base_uri": "https://localhost:8080/",
          "height": 206
        }
      },
      "source": [
        "link = 'https://raw.githubusercontent.com/nadyadtm/Abalone-Repository/master/abalone_dataset.csv'\n",
        "df = pd.read_csv(link)\n",
        "df.head(5)"
      ],
      "execution_count": 0,
      "outputs": [
        {
          "output_type": "execute_result",
          "data": {
            "text/html": [
              "<div>\n",
              "<style scoped>\n",
              "    .dataframe tbody tr th:only-of-type {\n",
              "        vertical-align: middle;\n",
              "    }\n",
              "\n",
              "    .dataframe tbody tr th {\n",
              "        vertical-align: top;\n",
              "    }\n",
              "\n",
              "    .dataframe thead th {\n",
              "        text-align: right;\n",
              "    }\n",
              "</style>\n",
              "<table border=\"1\" class=\"dataframe\">\n",
              "  <thead>\n",
              "    <tr style=\"text-align: right;\">\n",
              "      <th></th>\n",
              "      <th>sex</th>\n",
              "      <th>length</th>\n",
              "      <th>diameter</th>\n",
              "      <th>height</th>\n",
              "      <th>whole_weight</th>\n",
              "      <th>shucked_weight</th>\n",
              "      <th>viscera_weight</th>\n",
              "      <th>shell_weight</th>\n",
              "      <th>rings</th>\n",
              "    </tr>\n",
              "  </thead>\n",
              "  <tbody>\n",
              "    <tr>\n",
              "      <th>0</th>\n",
              "      <td>M</td>\n",
              "      <td>0.455</td>\n",
              "      <td>0.365</td>\n",
              "      <td>0.095</td>\n",
              "      <td>0.5140</td>\n",
              "      <td>0.2245</td>\n",
              "      <td>0.1010</td>\n",
              "      <td>0.150</td>\n",
              "      <td>15</td>\n",
              "    </tr>\n",
              "    <tr>\n",
              "      <th>1</th>\n",
              "      <td>M</td>\n",
              "      <td>0.350</td>\n",
              "      <td>0.265</td>\n",
              "      <td>0.090</td>\n",
              "      <td>0.2255</td>\n",
              "      <td>0.0995</td>\n",
              "      <td>0.0485</td>\n",
              "      <td>0.070</td>\n",
              "      <td>7</td>\n",
              "    </tr>\n",
              "    <tr>\n",
              "      <th>2</th>\n",
              "      <td>F</td>\n",
              "      <td>0.530</td>\n",
              "      <td>0.420</td>\n",
              "      <td>0.135</td>\n",
              "      <td>0.6770</td>\n",
              "      <td>0.2565</td>\n",
              "      <td>0.1415</td>\n",
              "      <td>0.210</td>\n",
              "      <td>9</td>\n",
              "    </tr>\n",
              "    <tr>\n",
              "      <th>3</th>\n",
              "      <td>M</td>\n",
              "      <td>0.440</td>\n",
              "      <td>0.365</td>\n",
              "      <td>0.125</td>\n",
              "      <td>0.5160</td>\n",
              "      <td>0.2155</td>\n",
              "      <td>0.1140</td>\n",
              "      <td>0.155</td>\n",
              "      <td>10</td>\n",
              "    </tr>\n",
              "    <tr>\n",
              "      <th>4</th>\n",
              "      <td>I</td>\n",
              "      <td>0.330</td>\n",
              "      <td>0.255</td>\n",
              "      <td>0.080</td>\n",
              "      <td>0.2050</td>\n",
              "      <td>0.0895</td>\n",
              "      <td>0.0395</td>\n",
              "      <td>0.055</td>\n",
              "      <td>7</td>\n",
              "    </tr>\n",
              "  </tbody>\n",
              "</table>\n",
              "</div>"
            ],
            "text/plain": [
              "  sex  length  diameter  ...  viscera_weight  shell_weight  rings\n",
              "0   M   0.455     0.365  ...          0.1010         0.150     15\n",
              "1   M   0.350     0.265  ...          0.0485         0.070      7\n",
              "2   F   0.530     0.420  ...          0.1415         0.210      9\n",
              "3   M   0.440     0.365  ...          0.1140         0.155     10\n",
              "4   I   0.330     0.255  ...          0.0395         0.055      7\n",
              "\n",
              "[5 rows x 9 columns]"
            ]
          },
          "metadata": {
            "tags": []
          },
          "execution_count": 2
        }
      ]
    },
    {
      "cell_type": "markdown",
      "metadata": {
        "id": "Npf4JAWkhD5h",
        "colab_type": "text"
      },
      "source": [
        "## Deskripsi Data"
      ]
    },
    {
      "cell_type": "markdown",
      "metadata": {
        "id": "A2GdqqMhhbWc",
        "colab_type": "text"
      },
      "source": [
        "Melihat tipe data dari atribut"
      ]
    },
    {
      "cell_type": "code",
      "metadata": {
        "id": "JQHtAaq4g9a0",
        "colab_type": "code",
        "outputId": "315239e9-53d7-44b0-92a4-a317992249e9",
        "colab": {
          "base_uri": "https://localhost:8080/",
          "height": 204
        }
      },
      "source": [
        "df.dtypes"
      ],
      "execution_count": 0,
      "outputs": [
        {
          "output_type": "execute_result",
          "data": {
            "text/plain": [
              "sex                object\n",
              "length            float64\n",
              "diameter          float64\n",
              "height            float64\n",
              "whole_weight      float64\n",
              "shucked_weight    float64\n",
              "viscera_weight    float64\n",
              "shell_weight      float64\n",
              "rings               int64\n",
              "dtype: object"
            ]
          },
          "metadata": {
            "tags": []
          },
          "execution_count": 3
        }
      ]
    },
    {
      "cell_type": "markdown",
      "metadata": {
        "id": "GsuV0SoUhgQ2",
        "colab_type": "text"
      },
      "source": [
        "Melihat apakah ada yang bernilai null (missing values)"
      ]
    },
    {
      "cell_type": "code",
      "metadata": {
        "id": "1dJk8ObXhJmA",
        "colab_type": "code",
        "outputId": "53df161c-196e-4c47-a2f5-9e71b14732ef",
        "colab": {
          "base_uri": "https://localhost:8080/",
          "height": 279
        }
      },
      "source": [
        "df.info()"
      ],
      "execution_count": 0,
      "outputs": [
        {
          "output_type": "stream",
          "text": [
            "<class 'pandas.core.frame.DataFrame'>\n",
            "RangeIndex: 4177 entries, 0 to 4176\n",
            "Data columns (total 9 columns):\n",
            "sex               4177 non-null object\n",
            "length            4177 non-null float64\n",
            "diameter          4177 non-null float64\n",
            "height            4177 non-null float64\n",
            "whole_weight      4177 non-null float64\n",
            "shucked_weight    4177 non-null float64\n",
            "viscera_weight    4177 non-null float64\n",
            "shell_weight      4177 non-null float64\n",
            "rings             4177 non-null int64\n",
            "dtypes: float64(7), int64(1), object(1)\n",
            "memory usage: 293.8+ KB\n"
          ],
          "name": "stdout"
        }
      ]
    },
    {
      "cell_type": "markdown",
      "metadata": {
        "id": "BUSe3jAdioBa",
        "colab_type": "text"
      },
      "source": [
        "## Visualisasi data\n",
        "\n",
        "\n"
      ]
    },
    {
      "cell_type": "code",
      "metadata": {
        "id": "qDCgXU8ciDJR",
        "colab_type": "code",
        "outputId": "475b0f66-6487-4439-d9a5-f74b7d85a936",
        "colab": {
          "base_uri": "https://localhost:8080/",
          "height": 281
        }
      },
      "source": [
        "fig = plt.figure()\n",
        "\n",
        "plt.subplot(2, 2, 1)\n",
        "plt.title(\"Length\")\n",
        "plt.scatter(df['length'],df['rings'],color=\"r\" )\n",
        "\n",
        "plt.subplot(2, 2, 2)\n",
        "plt.title(\"Diameter\")\n",
        "plt.scatter(df['diameter'],df['rings'])\n",
        "\n",
        "plt.subplot(2, 2, 3)\n",
        "plt.title(\"Whole Weight\")\n",
        "plt.scatter(df['whole_weight'],df['rings'])\n",
        "\n",
        "plt.subplot(2, 2, 4)\n",
        "plt.title(\"Height\")\n",
        "plt.scatter(df['height'],df['rings'])\n",
        "\n",
        "plt.show()"
      ],
      "execution_count": 0,
      "outputs": [
        {
          "output_type": "display_data",
          "data": {
            "image/png": "[encoded data removed]",
            "text/plain": [
              "<Figure size 432x288 with 4 Axes>"
            ]
          },
          "metadata": {
            "tags": []
          }
        }
      ]
    },
    {
      "cell_type": "markdown",
      "metadata": {
        "id": "-FiMoBmIX_cm",
        "colab_type": "text"
      },
      "source": [
        "## Train Test Split"
      ]
    },
    {
      "cell_type": "markdown",
      "metadata": {
        "id": "LF_IZ9GMYEQV",
        "colab_type": "text"
      },
      "source": [
        "Kita akan membagi data menjadi dua bagian, yaitu data train dan data test dengan menggunakan code sebagai berikut"
      ]
    },
    {
      "cell_type": "code",
      "metadata": {
        "id": "RAcYToCbYJ53",
        "colab_type": "code",
        "colab": {}
      },
      "source": [
        "# split data into train/test\n",
        "msk = np.random.rand(len(df)) < 0.8\n",
        "train = df[msk]\n",
        "test = df[~msk]"
      ],
      "execution_count": 0,
      "outputs": []
    },
    {
      "cell_type": "markdown",
      "metadata": {
        "id": "clCzdks4XQjf",
        "colab_type": "text"
      },
      "source": [
        "Ambil salah satu atribut yang dicari hubungannya. Disini saya akan memilih atribut Diameter"
      ]
    },
    {
      "cell_type": "code",
      "metadata": {
        "id": "FNT9laAHjbvH",
        "colab_type": "code",
        "colab": {}
      },
      "source": [
        "x_data = train['length']\n",
        "y = train['rings']"
      ],
      "execution_count": 0,
      "outputs": []
    },
    {
      "cell_type": "code",
      "metadata": {
        "id": "CQp7nqvDZZeF",
        "colab_type": "code",
        "outputId": "8c62dc96-91b7-4665-9d5c-54db608b19c8",
        "colab": {
          "base_uri": "https://localhost:8080/",
          "height": 241
        }
      },
      "source": [
        "x_data"
      ],
      "execution_count": 0,
      "outputs": [
        {
          "output_type": "execute_result",
          "data": {
            "text/plain": [
              "3       0.440\n",
              "4       0.330\n",
              "6       0.530\n",
              "7       0.545\n",
              "8       0.475\n",
              "        ...  \n",
              "4168    0.515\n",
              "4169    0.520\n",
              "4171    0.560\n",
              "4172    0.565\n",
              "4176    0.710\n",
              "Name: length, Length: 3333, dtype: float64"
            ]
          },
          "metadata": {
            "tags": []
          },
          "execution_count": 9
        }
      ]
    },
    {
      "cell_type": "markdown",
      "metadata": {
        "colab_type": "text",
        "id": "vy5tewt0YHkt"
      },
      "source": [
        "## Linear Regression"
      ]
    },
    {
      "cell_type": "markdown",
      "metadata": {
        "id": "SyRzDNThXlv1",
        "colab_type": "text"
      },
      "source": [
        "Setelah itu cari intercept(b) dan coefficient(a)-nya"
      ]
    },
    {
      "cell_type": "code",
      "metadata": {
        "id": "QOfTzZuMU1Uw",
        "colab_type": "code",
        "colab": {}
      },
      "source": [
        "m = train.shape[0]\n",
        "sumxi = x_data.sum()\n",
        "sumxi2 = (x_data**2).sum()\n",
        "sumyi = y.sum()\n",
        "sumxiyi = (y*x_data).sum()\n",
        "\n",
        "A = np.array([[m,sumxi],[sumxi,sumxi2]])\n",
        "B = np.array([[sumyi],[sumxiyi]])\n",
        "b,a=np.linalg.inv(A)@B"
      ],
      "execution_count": 0,
      "outputs": []
    },
    {
      "cell_type": "code",
      "metadata": {
        "colab_type": "code",
        "id": "k-ewrGKZW9ud",
        "colab": {}
      },
      "source": [
        "def f(a,b,x):\n",
        "  return a*x+b"
      ],
      "execution_count": 0,
      "outputs": []
    },
    {
      "cell_type": "code",
      "metadata": {
        "colab_type": "code",
        "id": "M_DLt8rdW9t5",
        "outputId": "bde75eaa-4167-4744-c135-b768aca079bc",
        "colab": {
          "base_uri": "https://localhost:8080/",
          "height": 279
        }
      },
      "source": [
        "x = np.linspace(0,1,15)\n",
        "plt.plot(x,f(a,b,x))\n",
        "plt.scatter(x_data,y,color='yellow')\n",
        "plt.xlabel('length')\n",
        "plt.ylabel('rings')\n",
        "plt.show()"
      ],
      "execution_count": 0,
      "outputs": [
        {
          "output_type": "display_data",
          "data": {
            "image/png": "[encoded data removed]",
            "text/plain": [
              "<Figure size 432x288 with 1 Axes>"
            ]
          },
          "metadata": {
            "tags": []
          }
        }
      ]
    },
    {
      "cell_type": "markdown",
      "metadata": {
        "id": "UwnL-A-8VK6v",
        "colab_type": "text"
      },
      "source": [
        "## Non Linear Regression (Exponential)\n",
        "\n"
      ]
    },
    {
      "cell_type": "code",
      "metadata": {
        "id": "KgvnRZOJZVXc",
        "colab_type": "code",
        "colab": {}
      },
      "source": [
        "sumxi = x_data.sum()\n",
        "sumxi2 = (x_data**2).sum()\n",
        "sumyi = np.log(abs(y)).sum()\n",
        "sumxiyi = (np.log(abs(y)) * x_data).sum()\n",
        "m = train.shape[0]\n",
        "\n",
        "A = np.array([[m,sumxi],[sumxi,sumxi2]])\n",
        "B = np.array([[sumyi],[sumxiyi]])\n",
        "\n",
        "lnb,a = np.linalg.inv(A)@B\n",
        "\n",
        "import math\n",
        "b = np.exp(lnb)"
      ],
      "execution_count": 0,
      "outputs": []
    },
    {
      "cell_type": "code",
      "metadata": {
        "id": "QAglaBa7eouv",
        "colab_type": "code",
        "colab": {}
      },
      "source": [
        "def f3(a,b,x):\n",
        "  return b*np.exp(a*x)"
      ],
      "execution_count": 0,
      "outputs": []
    },
    {
      "cell_type": "code",
      "metadata": {
        "id": "jJB5tVnmerrx",
        "colab_type": "code",
        "outputId": "f257b1a3-1119-4fe3-c514-55f3a5af1624",
        "colab": {
          "base_uri": "https://localhost:8080/",
          "height": 279
        }
      },
      "source": [
        "x = np.linspace(0,1,15)\n",
        "plt.plot(x,f3(a,b,x))\n",
        "plt.scatter(x_data,y,color='yellow')\n",
        "plt.xlabel('length')\n",
        "plt.ylabel('rings')\n",
        "plt.show()"
      ],
      "execution_count": 0,
      "outputs": [
        {
          "output_type": "display_data",
          "data": {
            "image/png": "[encoded data removed]",
            "text/plain": [
              "<Figure size 432x288 with 1 Axes>"
            ]
          },
          "metadata": {
            "tags": []
          }
        }
      ]
    },
    {
      "cell_type": "markdown",
      "metadata": {
        "id": "t_33mQ6rfE7N",
        "colab_type": "text"
      },
      "source": [
        "## Menghitung Akurasi"
      ]
    },
    {
      "cell_type": "code",
      "metadata": {
        "id": "7HrfZqY_fYtf",
        "colab_type": "code",
        "colab": {}
      },
      "source": [
        "x_test = test['length']\n",
        "y_test = test['rings']"
      ],
      "execution_count": 0,
      "outputs": []
    },
    {
      "cell_type": "code",
      "metadata": {
        "id": "W9qBL6NlfEYB",
        "colab_type": "code",
        "colab": {}
      },
      "source": [
        "#menghitung akurasi dengan rsme\n",
        "# rmse = 0\n",
        "# for i in range(y_test.shape[0]):\n",
        "#     y_pred=  f(a,b,x_test[i])\n",
        "#     rmse += (y_test[i] - y_pred) ** 2\n",
        "    \n",
        "# rmse = np.sqrt(rmse/y_test.shape[0])\n",
        "y_pred=f(a,b,x_test)\n",
        "y_pred\n",
        "# print(rmse)"
      ],
      "execution_count": 0,
      "outputs": []
    }
  ]
}