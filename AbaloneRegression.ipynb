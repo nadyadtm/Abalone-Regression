{
  "nbformat": 4,
  "nbformat_minor": 0,
  "metadata": {
    "colab": {
      "name": "AbaloneRegression.ipynb",
      "provenance": [],
      "collapsed_sections": [],
      "include_colab_link": true
    },
    "kernelspec": {
      "name": "python3",
      "display_name": "Python 3"
    }
  },
  "cells": [
    {
      "cell_type": "markdown",
      "metadata": {
        "id": "view-in-github",
        "colab_type": "text"
      },
      "source": [
        "<a href=\"https://colab.research.google.com/github/nadyadtm/Abalone-Repository/blob/master/AbaloneRegression.ipynb\" target=\"_parent\"><img src=\"https://colab.research.google.com/assets/colab-badge.svg\" alt=\"Open In Colab\"/></a>"
      ]
    },
    {
      "cell_type": "markdown",
      "metadata": {
        "id": "A1OHCwaMfK2A",
        "colab_type": "text"
      },
      "source": [
        "# Regression (Abalone Dataset)"
      ]
    },
    {
      "cell_type": "markdown",
      "metadata": {
        "id": "cFXWlO-HfPKt",
        "colab_type": "text"
      },
      "source": [
        "Dataset Abalone merupakan dataset yang bersumber dari MLData. Dalam dataset ini, kita harus memprediksi umur dari abalone dari fisik si abalonenya itu sendiri. Abalone merupakan semacam kerang. Pada notebook ini akan melakukan regresi sederhana"
      ]
    },
    {
      "cell_type": "markdown",
      "metadata": {
        "id": "BMH0QpwOfqDs",
        "colab_type": "text"
      },
      "source": [
        "## Step-step Regresi"
      ]
    },
    {
      "cell_type": "code",
      "metadata": {
        "id": "vpURmFq1eqv1",
        "colab_type": "code",
        "colab": {}
      },
      "source": [
        "import numpy as np\n",
        "import pandas as pd"
      ],
      "execution_count": 0,
      "outputs": []
    },
    {
      "cell_type": "markdown",
      "metadata": {
        "id": "R__tKZE2gX-K",
        "colab_type": "text"
      },
      "source": [
        "## Ayo kita upload datasetnya"
      ]
    },
    {
      "cell_type": "code",
      "metadata": {
        "id": "5xhGFZBOgWs2",
        "colab_type": "code",
        "colab": {
          "base_uri": "https://localhost:8080/",
          "height": 206
        },
        "outputId": "5f1777d2-0c34-4dc0-e414-b3c0e4b9e9a9"
      },
      "source": [
        "link = 'https://raw.githubusercontent.com/nadyadtm/Abalone-Repository/master/abalone_dataset.csv'\n",
        "df = pd.read_csv(link)\n",
        "df.head(5)"
      ],
      "execution_count": 3,
      "outputs": [
        {
          "output_type": "execute_result",
          "data": {
            "text/html": [
              "<div>\n",
              "<style scoped>\n",
              "    .dataframe tbody tr th:only-of-type {\n",
              "        vertical-align: middle;\n",
              "    }\n",
              "\n",
              "    .dataframe tbody tr th {\n",
              "        vertical-align: top;\n",
              "    }\n",
              "\n",
              "    .dataframe thead th {\n",
              "        text-align: right;\n",
              "    }\n",
              "</style>\n",
              "<table border=\"1\" class=\"dataframe\">\n",
              "  <thead>\n",
              "    <tr style=\"text-align: right;\">\n",
              "      <th></th>\n",
              "      <th>sex</th>\n",
              "      <th>length</th>\n",
              "      <th>diameter</th>\n",
              "      <th>height</th>\n",
              "      <th>whole_weight</th>\n",
              "      <th>shucked_weight</th>\n",
              "      <th>viscera_weight</th>\n",
              "      <th>shell_weight</th>\n",
              "      <th>rings</th>\n",
              "    </tr>\n",
              "  </thead>\n",
              "  <tbody>\n",
              "    <tr>\n",
              "      <th>0</th>\n",
              "      <td>M</td>\n",
              "      <td>0.455</td>\n",
              "      <td>0.365</td>\n",
              "      <td>0.095</td>\n",
              "      <td>0.5140</td>\n",
              "      <td>0.2245</td>\n",
              "      <td>0.1010</td>\n",
              "      <td>0.150</td>\n",
              "      <td>15</td>\n",
              "    </tr>\n",
              "    <tr>\n",
              "      <th>1</th>\n",
              "      <td>M</td>\n",
              "      <td>0.350</td>\n",
              "      <td>0.265</td>\n",
              "      <td>0.090</td>\n",
              "      <td>0.2255</td>\n",
              "      <td>0.0995</td>\n",
              "      <td>0.0485</td>\n",
              "      <td>0.070</td>\n",
              "      <td>7</td>\n",
              "    </tr>\n",
              "    <tr>\n",
              "      <th>2</th>\n",
              "      <td>F</td>\n",
              "      <td>0.530</td>\n",
              "      <td>0.420</td>\n",
              "      <td>0.135</td>\n",
              "      <td>0.6770</td>\n",
              "      <td>0.2565</td>\n",
              "      <td>0.1415</td>\n",
              "      <td>0.210</td>\n",
              "      <td>9</td>\n",
              "    </tr>\n",
              "    <tr>\n",
              "      <th>3</th>\n",
              "      <td>M</td>\n",
              "      <td>0.440</td>\n",
              "      <td>0.365</td>\n",
              "      <td>0.125</td>\n",
              "      <td>0.5160</td>\n",
              "      <td>0.2155</td>\n",
              "      <td>0.1140</td>\n",
              "      <td>0.155</td>\n",
              "      <td>10</td>\n",
              "    </tr>\n",
              "    <tr>\n",
              "      <th>4</th>\n",
              "      <td>I</td>\n",
              "      <td>0.330</td>\n",
              "      <td>0.255</td>\n",
              "      <td>0.080</td>\n",
              "      <td>0.2050</td>\n",
              "      <td>0.0895</td>\n",
              "      <td>0.0395</td>\n",
              "      <td>0.055</td>\n",
              "      <td>7</td>\n",
              "    </tr>\n",
              "  </tbody>\n",
              "</table>\n",
              "</div>"
            ],
            "text/plain": [
              "  sex  length  diameter  ...  viscera_weight  shell_weight  rings\n",
              "0   M   0.455     0.365  ...          0.1010         0.150     15\n",
              "1   M   0.350     0.265  ...          0.0485         0.070      7\n",
              "2   F   0.530     0.420  ...          0.1415         0.210      9\n",
              "3   M   0.440     0.365  ...          0.1140         0.155     10\n",
              "4   I   0.330     0.255  ...          0.0395         0.055      7\n",
              "\n",
              "[5 rows x 9 columns]"
            ]
          },
          "metadata": {
            "tags": []
          },
          "execution_count": 3
        }
      ]
    },
    {
      "cell_type": "markdown",
      "metadata": {
        "id": "Npf4JAWkhD5h",
        "colab_type": "text"
      },
      "source": [
        "## Deskripsi Data"
      ]
    },
    {
      "cell_type": "markdown",
      "metadata": {
        "id": "A2GdqqMhhbWc",
        "colab_type": "text"
      },
      "source": [
        "Melihat tipe data dari atribut"
      ]
    },
    {
      "cell_type": "code",
      "metadata": {
        "id": "JQHtAaq4g9a0",
        "colab_type": "code",
        "colab": {
          "base_uri": "https://localhost:8080/",
          "height": 204
        },
        "outputId": "d9060089-c06c-4fc2-d8dd-a4648c006572"
      },
      "source": [
        "df.dtypes"
      ],
      "execution_count": 9,
      "outputs": [
        {
          "output_type": "execute_result",
          "data": {
            "text/plain": [
              "sex                object\n",
              "length            float64\n",
              "diameter          float64\n",
              "height            float64\n",
              "whole_weight      float64\n",
              "shucked_weight    float64\n",
              "viscera_weight    float64\n",
              "shell_weight      float64\n",
              "rings               int64\n",
              "dtype: object"
            ]
          },
          "metadata": {
            "tags": []
          },
          "execution_count": 9
        }
      ]
    },
    {
      "cell_type": "markdown",
      "metadata": {
        "id": "GsuV0SoUhgQ2",
        "colab_type": "text"
      },
      "source": [
        "Melihat apakah ada yang bernilai null (missing values)"
      ]
    },
    {
      "cell_type": "code",
      "metadata": {
        "id": "1dJk8ObXhJmA",
        "colab_type": "code",
        "colab": {}
      },
      "source": [
        ""
      ],
      "execution_count": 0,
      "outputs": []
    }
  ]
}